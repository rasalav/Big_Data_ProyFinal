{
 "cells": [
  {
   "cell_type": "markdown",
   "metadata": {},
   "source": [
    "# PROGRAMA DE CIENCIAS DE LOS DATOS \n",
    "# **Curso: Big Data**\n",
    "## **PROYECTO FINAL:**\n",
    "\n",
    "## <font color='red'>Machine Learning con datos en PostgreSQL</font>. \n",
    "\n",
    "\n",
    "#### **Profesor: MSc. Felipe Meza Obando**\n",
    "\n",
    "\n",
    "#### Alumnos: \n",
    "  \n",
    "####  **Lester Salazar Viales.**\n",
    "####  **Randal Salazar Viales.**\n"
   ]
  },
  {
   "cell_type": "markdown",
   "metadata": {},
   "source": [
    "### Objetivo del Proyecto"
   ]
  },
  {
   "cell_type": "markdown",
   "metadata": {},
   "source": [
    "Se efectuará un Análisis de datos de Machine Learning, a una base de datos que se encuentra ubicada en una **BD PostgreSQL**.\n",
    "\n",
    "Para la BD a emplear, se efectuará un **análisis predictorio**, para tratar de **determinar la cantidad de días de vacaciones que  posee cada empleado**, de acuerdo a las features existentes en la BD."
   ]
  },
  {
   "cell_type": "markdown",
   "metadata": {},
   "source": [
    "## <font color='red'> DATASET DE RH DE UN BANCO </font>\n",
    "\n",
    "\n",
    "#### El conjunto de datos brinda información sobre el personal que labora para un banco.\n",
    "\n",
    "#### **Objetivo**: Tratar de determinar si es posible obtener la cantidad de días de vacaciones a su disposición, para cada uno de los empleado del Banco ."
   ]
  },
  {
   "cell_type": "markdown",
   "metadata": {},
   "source": [
    "### A. DESCRIPCIÓN DE ATRIBUTOS:\n",
    "\n",
    "**Variables de Entrada:**\n",
    "\n",
    "#### A. Datos de empleados del banco:\n",
    "\n",
    "1 - **cedula**: número de cédula del empleado (numérica)\n",
    "    \n",
    "2 - **cod_planilla**: código de planilla a la que pertenece el empleado en el banco (categórica)\n",
    "\n",
    "3 - **fecha_ingreso**: fecha de ingreso a laborar en el banco por el empleado (categórica)\n",
    "\n",
    "4 - **fecha_nacimiento**: fecha de nacimiento del empleado contratado (categórica)\n",
    "\n",
    "5 - **jornada_trabajo**: jornada de trabajo del empleado (categórica: A=DIURNA L-V, B=MIXTA L-V, C=NOCHE  L-V).\n",
    "\n",
    "6 - **cod_puesto**: código del puesto de trabajo del empleado (categórica: 849 valores posibles)\n",
    "\n",
    "7 - **sexo**: sexo del empleado (categórica binaria: 'M','F')\n",
    "    \n",
    "8 - **cod_concepto_salarial**: código del concepto salarial del ingreso/egreso de dinero del empleado (categórica)\n",
    "    \n",
    "9 - **cod_area**: tiene crédito en incumplimiento? (categórica: 'no','yes','unknown')\n",
    "    \n",
    "10 - **dias_derecho**: días que puede disfrutar de vacaciones el empleado hasta este momento (numérica).\n",
    "    \n",
    "11 - **monto_aplicar**: dinero devengado por el empleado (numérica)\n",
    "    \n",
    "12 - **provincia**: provincia donde labora el empleado (numérica: 1 , 2, 3, 4, 5, 6, 7)\n",
    "    \n",
    "14 - **dias_pendiente**: días que puede disfrutar de vacaciones el empleado hasta este momento (numérica). \n",
    "        valor positivo: son los días que le quedan por disfrutar al empleado.\n",
    "        valor negativo: son los días que a disfrutado el empleado demás con respecto al período.\n",
    "    \n",
    "15 - **edad**: edad del empleado (numérica).\n",
    "\n",
    "16 - **estado_civil**: estado civil del empleado (categórica: C=Casado, D=Divorciado, S=Soltero, U=Unión Libre, V=Viudo).\n",
    "\n",
    "\n",
    "\n",
    "**Variable de Salida (objetivo deseado):**\n",
    "\n",
    "21 - **vacaciones** - la cantidad de días de vacaciones que dispone el empleado (numérica)\n",
    "\n",
    "## <font color='red'>**Regresión Lineal:</font> <font color='blue'>vacaciones**</font>\n",
    "\n",
    "El dataset contiene $m=5109 $ muestras u observaciones."
   ]
  },
  {
   "cell_type": "markdown",
   "metadata": {},
   "source": [
    "### Importación de Librerías"
   ]
  },
  {
   "cell_type": "code",
   "execution_count": 1,
   "metadata": {},
   "outputs": [],
   "source": [
    "from pyspark.sql import Row\n",
    "from pyspark.sql import functions as F\n",
    "from pyspark.sql import SparkSession\n",
    "from pyspark.sql.types import *\n",
    "import matplotlib.pyplot as plt\n",
    "import six\n",
    "\n",
    "import seaborn as sns\n",
    "sns.set(color_codes=True)\n",
    "import numpy as np\n",
    "import pandas as pd\n",
    "from pyspark.ml import Pipeline\n",
    "from pyspark.ml.classification import RandomForestClassifier\n",
    "from pyspark.ml.feature import VectorAssembler, SQLTransformer\n",
    "from pyspark.ml.evaluation import MulticlassClassificationEvaluator, BinaryClassificationEvaluator\n",
    "from pyspark.ml.tuning import CrossValidator, ParamGridBuilder\n",
    "from pyspark.sql.functions import col,sum"
   ]
  },
  {
   "cell_type": "markdown",
   "metadata": {},
   "source": [
    "### Creación de SparkSession"
   ]
  },
  {
   "cell_type": "code",
   "execution_count": 2,
   "metadata": {},
   "outputs": [],
   "source": [
    "import findspark\n",
    "findspark.init('C:\\spark')\n",
    "\n",
    "from datetime import datetime\n",
    "from pyspark.sql import SparkSession\n",
    "from pyspark.sql.functions import col, date_format, udf, when, lit\n",
    "from pyspark.sql.types import DateType\n",
    "\n",
    "# Importación de Librerías para Machine Learning\n",
    "from pyspark.sql import functions as F\n",
    "from pyspark.sql import *\n",
    "\n",
    "spark = SparkSession \\\n",
    "    .builder \\\n",
    "    .appName(\"Basic JDBC pipeline\") \\\n",
    "    .config(\"spark.driver.extraClassPath\", \"C:\\Spark\\jdbcdriver\\postgresql-42.2.9.jar\") \\\n",
    "    .config(\"spark.executor.extraClassPath\", \"C:\\Spark\\jdbcdriver\\postgresql-42.2.9.jar\") \\\n",
    "    .getOrCreate()"
   ]
  },
  {
   "cell_type": "markdown",
   "metadata": {},
   "source": [
    "### Conexión a BD PostgreSQL mediante Spark"
   ]
  },
  {
   "cell_type": "markdown",
   "metadata": {},
   "source": [
    "### Creación del DataFrame de datos de BD empleada"
   ]
  },
  {
   "cell_type": "markdown",
   "metadata": {},
   "source": [
    "- **Dataframe de Tabla Empleados**"
   ]
  },
  {
   "cell_type": "markdown",
   "metadata": {},
   "source": [
    "- Cargado de datos y visualización parcial del dataset"
   ]
  },
  {
   "cell_type": "code",
   "execution_count": 3,
   "metadata": {},
   "outputs": [
    {
     "data": {
      "text/html": [
       "<div>\n",
       "<style scoped>\n",
       "    .dataframe tbody tr th:only-of-type {\n",
       "        vertical-align: middle;\n",
       "    }\n",
       "\n",
       "    .dataframe tbody tr th {\n",
       "        vertical-align: top;\n",
       "    }\n",
       "\n",
       "    .dataframe thead th {\n",
       "        text-align: right;\n",
       "    }\n",
       "</style>\n",
       "<table border=\"1\" class=\"dataframe\">\n",
       "  <thead>\n",
       "    <tr style=\"text-align: right;\">\n",
       "      <th></th>\n",
       "      <th>0</th>\n",
       "      <th>1</th>\n",
       "      <th>2</th>\n",
       "      <th>3</th>\n",
       "    </tr>\n",
       "  </thead>\n",
       "  <tbody>\n",
       "    <tr>\n",
       "      <th>cedula</th>\n",
       "      <td>0108150330</td>\n",
       "      <td>0110440601</td>\n",
       "      <td>0114460350</td>\n",
       "      <td>0111840955</td>\n",
       "    </tr>\n",
       "    <tr>\n",
       "      <th>cod_planilla</th>\n",
       "      <td>Q</td>\n",
       "      <td>Q</td>\n",
       "      <td>Q</td>\n",
       "      <td>Q</td>\n",
       "    </tr>\n",
       "    <tr>\n",
       "      <th>fecha_ingreso</th>\n",
       "      <td>28/10/1994</td>\n",
       "      <td>2/4/2004</td>\n",
       "      <td>25/3/2011</td>\n",
       "      <td>2/2/2004</td>\n",
       "    </tr>\n",
       "    <tr>\n",
       "      <th>fecha_nacimiento</th>\n",
       "      <td>1972-01-26</td>\n",
       "      <td>1979-08-14</td>\n",
       "      <td>1990-09-29</td>\n",
       "      <td>1983-10-12</td>\n",
       "    </tr>\n",
       "    <tr>\n",
       "      <th>jornada_trabajo</th>\n",
       "      <td>A</td>\n",
       "      <td>A</td>\n",
       "      <td>A</td>\n",
       "      <td>A</td>\n",
       "    </tr>\n",
       "    <tr>\n",
       "      <th>cod_puesto</th>\n",
       "      <td>GZO1.13</td>\n",
       "      <td>PRC4.11</td>\n",
       "      <td>ASB3.16</td>\n",
       "      <td>PRC4.11</td>\n",
       "    </tr>\n",
       "    <tr>\n",
       "      <th>sexo</th>\n",
       "      <td>M</td>\n",
       "      <td>M</td>\n",
       "      <td>M</td>\n",
       "      <td>F</td>\n",
       "    </tr>\n",
       "    <tr>\n",
       "      <th>cod_concepto_salarial</th>\n",
       "      <td>41</td>\n",
       "      <td>41</td>\n",
       "      <td>41</td>\n",
       "      <td>41</td>\n",
       "    </tr>\n",
       "    <tr>\n",
       "      <th>cod_area</th>\n",
       "      <td>51</td>\n",
       "      <td>51</td>\n",
       "      <td>51</td>\n",
       "      <td>51</td>\n",
       "    </tr>\n",
       "    <tr>\n",
       "      <th>dias_derecho</th>\n",
       "      <td>30.000000000000000000</td>\n",
       "      <td>30.000000000000000000</td>\n",
       "      <td>18.000000000000000000</td>\n",
       "      <td>30.000000000000000000</td>\n",
       "    </tr>\n",
       "    <tr>\n",
       "      <th>monto_aplicar</th>\n",
       "      <td>1222186.430000000000000000</td>\n",
       "      <td>464802.170000000000000000</td>\n",
       "      <td>361921.410000000000000000</td>\n",
       "      <td>464802.170000000000000000</td>\n",
       "    </tr>\n",
       "    <tr>\n",
       "      <th>provincia</th>\n",
       "      <td>1</td>\n",
       "      <td>6</td>\n",
       "      <td>1</td>\n",
       "      <td>1</td>\n",
       "    </tr>\n",
       "    <tr>\n",
       "      <th>dias_pendiente</th>\n",
       "      <td>31.000000000000000000</td>\n",
       "      <td>13.000000000000000000</td>\n",
       "      <td>5.000000000000000000</td>\n",
       "      <td>-3.500000000000000000</td>\n",
       "    </tr>\n",
       "    <tr>\n",
       "      <th>edad</th>\n",
       "      <td>48</td>\n",
       "      <td>41</td>\n",
       "      <td>30</td>\n",
       "      <td>37</td>\n",
       "    </tr>\n",
       "    <tr>\n",
       "      <th>estado_civil</th>\n",
       "      <td>S</td>\n",
       "      <td>C</td>\n",
       "      <td>C</td>\n",
       "      <td>S</td>\n",
       "    </tr>\n",
       "  </tbody>\n",
       "</table>\n",
       "</div>"
      ],
      "text/plain": [
       "                                                0                          1  \\\n",
       "cedula                                 0108150330                 0110440601   \n",
       "cod_planilla                                    Q                          Q   \n",
       "fecha_ingreso                          28/10/1994                   2/4/2004   \n",
       "fecha_nacimiento                       1972-01-26                 1979-08-14   \n",
       "jornada_trabajo                                 A                          A   \n",
       "cod_puesto                                GZO1.13                    PRC4.11   \n",
       "sexo                                            M                          M   \n",
       "cod_concepto_salarial                          41                         41   \n",
       "cod_area                                       51                         51   \n",
       "dias_derecho                30.000000000000000000      30.000000000000000000   \n",
       "monto_aplicar          1222186.430000000000000000  464802.170000000000000000   \n",
       "provincia                                       1                          6   \n",
       "dias_pendiente              31.000000000000000000      13.000000000000000000   \n",
       "edad                                           48                         41   \n",
       "estado_civil                                    S                          C   \n",
       "\n",
       "                                               2                          3  \n",
       "cedula                                0114460350                 0111840955  \n",
       "cod_planilla                                   Q                          Q  \n",
       "fecha_ingreso                          25/3/2011                   2/2/2004  \n",
       "fecha_nacimiento                      1990-09-29                 1983-10-12  \n",
       "jornada_trabajo                                A                          A  \n",
       "cod_puesto                               ASB3.16                    PRC4.11  \n",
       "sexo                                           M                          F  \n",
       "cod_concepto_salarial                         41                         41  \n",
       "cod_area                                      51                         51  \n",
       "dias_derecho               18.000000000000000000      30.000000000000000000  \n",
       "monto_aplicar          361921.410000000000000000  464802.170000000000000000  \n",
       "provincia                                      1                          1  \n",
       "dias_pendiente              5.000000000000000000      -3.500000000000000000  \n",
       "edad                                          30                         37  \n",
       "estado_civil                                   C                          S  "
      ]
     },
     "execution_count": 3,
     "metadata": {},
     "output_type": "execute_result"
    }
   ],
   "source": [
    "# Reading single DataFrame in Spark by retrieving all rows from a DB table.\n",
    "df = spark \\\n",
    "    .read \\\n",
    "    .format(\"jdbc\") \\\n",
    "    .option(\"url\", \"jdbc:postgresql://localhost/rhdb\") \\\n",
    "    .option(\"user\", \"postgres\") \\\n",
    "    .option(\"password\", \"bd2019%\") \\\n",
    "    .option(\"dbtable\", \"empleado_final\") \\\n",
    "    .load()\n",
    "\n",
    "df.toPandas().head(4).transpose()"
   ]
  },
  {
   "cell_type": "markdown",
   "metadata": {},
   "source": [
    "#### Total de datos del dataframe: filas, columnas"
   ]
  },
  {
   "cell_type": "code",
   "execution_count": 4,
   "metadata": {},
   "outputs": [
    {
     "name": "stdout",
     "output_type": "stream",
     "text": [
      "Cantidad de: datos, atributos:\n",
      "(5109, 15)\n"
     ]
    }
   ],
   "source": [
    "#check the shape of the data\n",
    "print('Cantidad de: datos, atributos:')\n",
    "print((df.count(),len(df.columns)))"
   ]
  },
  {
   "cell_type": "markdown",
   "metadata": {},
   "source": [
    "- **Visualización del esquema del DataFrame**:"
   ]
  },
  {
   "cell_type": "code",
   "execution_count": 5,
   "metadata": {},
   "outputs": [
    {
     "name": "stdout",
     "output_type": "stream",
     "text": [
      "root\n",
      " |-- cedula: string (nullable = true)\n",
      " |-- cod_planilla: string (nullable = true)\n",
      " |-- fecha_ingreso: string (nullable = true)\n",
      " |-- fecha_nacimiento: string (nullable = true)\n",
      " |-- jornada_trabajo: string (nullable = true)\n",
      " |-- cod_puesto: string (nullable = true)\n",
      " |-- sexo: string (nullable = true)\n",
      " |-- cod_concepto_salarial: string (nullable = true)\n",
      " |-- cod_area: string (nullable = true)\n",
      " |-- dias_derecho: decimal(38,18) (nullable = true)\n",
      " |-- monto_aplicar: decimal(38,18) (nullable = true)\n",
      " |-- provincia: integer (nullable = true)\n",
      " |-- dias_pendiente: decimal(38,18) (nullable = true)\n",
      " |-- edad: integer (nullable = true)\n",
      " |-- estado_civil: string (nullable = true)\n",
      "\n"
     ]
    }
   ],
   "source": [
    "df.printSchema()"
   ]
  },
  {
   "cell_type": "markdown",
   "metadata": {},
   "source": [
    "- **Nombres de columnas del DataFrame**:"
   ]
  },
  {
   "cell_type": "code",
   "execution_count": 6,
   "metadata": {},
   "outputs": [
    {
     "data": {
      "text/plain": [
       "['cedula',\n",
       " 'cod_planilla',\n",
       " 'fecha_ingreso',\n",
       " 'fecha_nacimiento',\n",
       " 'jornada_trabajo',\n",
       " 'cod_puesto',\n",
       " 'sexo',\n",
       " 'cod_concepto_salarial',\n",
       " 'cod_area',\n",
       " 'dias_derecho',\n",
       " 'monto_aplicar',\n",
       " 'provincia',\n",
       " 'dias_pendiente',\n",
       " 'edad',\n",
       " 'estado_civil']"
      ]
     },
     "execution_count": 6,
     "metadata": {},
     "output_type": "execute_result"
    }
   ],
   "source": [
    "df.columns"
   ]
  },
  {
   "cell_type": "markdown",
   "metadata": {},
   "source": [
    "- **Cambio de nombre de columnas: monto_aplicar por salario**"
   ]
  },
  {
   "cell_type": "code",
   "execution_count": 7,
   "metadata": {},
   "outputs": [],
   "source": [
    "df = df.withColumnRenamed('monto_aplicar', 'salario')"
   ]
  },
  {
   "cell_type": "markdown",
   "metadata": {},
   "source": [
    "- Visualización del esquema del DataFrame por el cambio en nombre columna:"
   ]
  },
  {
   "cell_type": "code",
   "execution_count": 8,
   "metadata": {
    "scrolled": true
   },
   "outputs": [
    {
     "name": "stdout",
     "output_type": "stream",
     "text": [
      "root\n",
      " |-- cedula: string (nullable = true)\n",
      " |-- cod_planilla: string (nullable = true)\n",
      " |-- fecha_ingreso: string (nullable = true)\n",
      " |-- fecha_nacimiento: string (nullable = true)\n",
      " |-- jornada_trabajo: string (nullable = true)\n",
      " |-- cod_puesto: string (nullable = true)\n",
      " |-- sexo: string (nullable = true)\n",
      " |-- cod_concepto_salarial: string (nullable = true)\n",
      " |-- cod_area: string (nullable = true)\n",
      " |-- dias_derecho: decimal(38,18) (nullable = true)\n",
      " |-- salario: decimal(38,18) (nullable = true)\n",
      " |-- provincia: integer (nullable = true)\n",
      " |-- dias_pendiente: decimal(38,18) (nullable = true)\n",
      " |-- edad: integer (nullable = true)\n",
      " |-- estado_civil: string (nullable = true)\n",
      "\n"
     ]
    }
   ],
   "source": [
    "df.printSchema()"
   ]
  },
  {
   "cell_type": "markdown",
   "metadata": {},
   "source": [
    "## Análisis Exploratorio de Datos (EDA)"
   ]
  },
  {
   "cell_type": "markdown",
   "metadata": {},
   "source": [
    "### -  Detección de valores nulos (missing values) dentro del dataframe"
   ]
  },
  {
   "cell_type": "code",
   "execution_count": 9,
   "metadata": {},
   "outputs": [
    {
     "data": {
      "text/html": [
       "<div>\n",
       "<style scoped>\n",
       "    .dataframe tbody tr th:only-of-type {\n",
       "        vertical-align: middle;\n",
       "    }\n",
       "\n",
       "    .dataframe tbody tr th {\n",
       "        vertical-align: top;\n",
       "    }\n",
       "\n",
       "    .dataframe thead th {\n",
       "        text-align: right;\n",
       "    }\n",
       "</style>\n",
       "<table border=\"1\" class=\"dataframe\">\n",
       "  <thead>\n",
       "    <tr style=\"text-align: right;\">\n",
       "      <th></th>\n",
       "      <th>0</th>\n",
       "    </tr>\n",
       "  </thead>\n",
       "  <tbody>\n",
       "    <tr>\n",
       "      <th>cedula</th>\n",
       "      <td>0.0</td>\n",
       "    </tr>\n",
       "    <tr>\n",
       "      <th>cod_planilla</th>\n",
       "      <td>0.0</td>\n",
       "    </tr>\n",
       "    <tr>\n",
       "      <th>fecha_ingreso</th>\n",
       "      <td>0.0</td>\n",
       "    </tr>\n",
       "    <tr>\n",
       "      <th>fecha_nacimiento</th>\n",
       "      <td>0.0</td>\n",
       "    </tr>\n",
       "    <tr>\n",
       "      <th>jornada_trabajo</th>\n",
       "      <td>0.0</td>\n",
       "    </tr>\n",
       "    <tr>\n",
       "      <th>cod_puesto</th>\n",
       "      <td>0.0</td>\n",
       "    </tr>\n",
       "    <tr>\n",
       "      <th>sexo</th>\n",
       "      <td>0.0</td>\n",
       "    </tr>\n",
       "    <tr>\n",
       "      <th>cod_concepto_salarial</th>\n",
       "      <td>0.0</td>\n",
       "    </tr>\n",
       "    <tr>\n",
       "      <th>cod_area</th>\n",
       "      <td>0.0</td>\n",
       "    </tr>\n",
       "    <tr>\n",
       "      <th>dias_derecho</th>\n",
       "      <td>0.0</td>\n",
       "    </tr>\n",
       "    <tr>\n",
       "      <th>salario</th>\n",
       "      <td>0.0</td>\n",
       "    </tr>\n",
       "    <tr>\n",
       "      <th>provincia</th>\n",
       "      <td>0.0</td>\n",
       "    </tr>\n",
       "    <tr>\n",
       "      <th>dias_pendiente</th>\n",
       "      <td>0.0</td>\n",
       "    </tr>\n",
       "    <tr>\n",
       "      <th>edad</th>\n",
       "      <td>0.0</td>\n",
       "    </tr>\n",
       "    <tr>\n",
       "      <th>estado_civil</th>\n",
       "      <td>0.0</td>\n",
       "    </tr>\n",
       "  </tbody>\n",
       "</table>\n",
       "</div>"
      ],
      "text/plain": [
       "                         0\n",
       "cedula                 0.0\n",
       "cod_planilla           0.0\n",
       "fecha_ingreso          0.0\n",
       "fecha_nacimiento       0.0\n",
       "jornada_trabajo        0.0\n",
       "cod_puesto             0.0\n",
       "sexo                   0.0\n",
       "cod_concepto_salarial  0.0\n",
       "cod_area               0.0\n",
       "dias_derecho           0.0\n",
       "salario                0.0\n",
       "provincia              0.0\n",
       "dias_pendiente         0.0\n",
       "edad                   0.0\n",
       "estado_civil           0.0"
      ]
     },
     "execution_count": 9,
     "metadata": {},
     "output_type": "execute_result"
    }
   ],
   "source": [
    "df_null = df.select(*(F.sum(F.col(c).isNull().cast('double')).alias(c) for c in df.columns)).toPandas()\n",
    "df_null.transpose()"
   ]
  },
  {
   "cell_type": "markdown",
   "metadata": {},
   "source": [
    "Como se puede apreciar, el dataframe NO contiene valores nulos en ninguna de sus columnas."
   ]
  },
  {
   "cell_type": "markdown",
   "metadata": {},
   "source": [
    "### - Detección de valores únicos dentro del dataframe"
   ]
  },
  {
   "cell_type": "code",
   "execution_count": 10,
   "metadata": {},
   "outputs": [
    {
     "name": "stdout",
     "output_type": "stream",
     "text": [
      " \n",
      "Nombres de columnas del DataFrame:  \n",
      "['cedula', 'cod_planilla', 'fecha_ingreso', 'fecha_nacimiento', 'jornada_trabajo', 'cod_puesto', 'sexo', 'cod_concepto_salarial', 'cod_area', 'dias_derecho', 'salario', 'provincia', 'dias_pendiente', 'edad', 'estado_civil']\n",
      " \n",
      "Cantidad de datos únicos por columnas del DataFrame:  \n",
      "variable: cedula , count 4037\n",
      "variable: cod_planilla , count 1\n",
      "variable: fecha_ingreso , count 1905\n",
      "variable: fecha_nacimiento , count 3442\n",
      "variable: jornada_trabajo , count 1\n",
      "variable: cod_puesto , count 578\n",
      "variable: sexo , count 3\n",
      "variable: cod_concepto_salarial , count 9\n",
      "variable: cod_area , count 15\n",
      "variable: dias_derecho , count 7\n",
      "variable: salario , count 344\n",
      "variable: provincia , count 7\n",
      "variable: dias_pendiente , count 172\n",
      "variable: edad , count 47\n",
      "variable: estado_civil , count 5\n"
     ]
    }
   ],
   "source": [
    "# Eliminación del ID del dataframe:\n",
    "#df_select1 = df.columns[1:]\n",
    "df_select1 = df.columns\n",
    "print(' ')\n",
    "print('Nombres de columnas del DataFrame:  ')\n",
    "print(df_select1)\n",
    "print(' ')\n",
    "\n",
    "# Detección de valores únicos\n",
    "print('Cantidad de datos únicos por columnas del DataFrame:  ')\n",
    "for col in df_select1:\n",
    "    col_count = df.select(col).distinct().count()\n",
    "    print('variable: {0} , count {1}'.format(col, col_count))"
   ]
  },
  {
   "cell_type": "markdown",
   "metadata": {},
   "source": [
    "De este análisis preliminar se aprecia lo siguiente:\n",
    "\n",
    "- Las columnas **cod_planilla** y **jornada_trabajo** poseen un valor único, por lo tanto **NO aportan nada al modelado**.\n",
    "\n",
    "- La fecha de nacimiento viene incluida implícitamente en la edad (no se tomará en cuenta para modelado).\n",
    "\n",
    "- Las columnas **dias_derecho** y **dias_pendiente** no se emplearán en el modelado. La columna dias_pendiente permite calcular la cantidad de **dias_vacaciones** de cada empleado, que será la variable a predecir (label).\n",
    "\n",
    "- Existen datos erróneos en el features **sexo**, el cual debería ser 2: M - F:"
   ]
  },
  {
   "cell_type": "markdown",
   "metadata": {},
   "source": [
    "### Corrección de datos erróneos en columna sexo:"
   ]
  },
  {
   "cell_type": "markdown",
   "metadata": {},
   "source": [
    "De acuerdo a la verificación preliminar anterior, se aprecia que existe 3 datos para la columna SEXO, lo cual es erróneo."
   ]
  },
  {
   "cell_type": "code",
   "execution_count": 11,
   "metadata": {},
   "outputs": [
    {
     "name": "stdout",
     "output_type": "stream",
     "text": [
      "+----+-----+\n",
      "|sexo|count|\n",
      "+----+-----+\n",
      "|   F| 2330|\n",
      "|  M7|    1|\n",
      "|   M| 2778|\n",
      "+----+-----+\n",
      "\n"
     ]
    }
   ],
   "source": [
    "df.groupBy('sexo').count().show()"
   ]
  },
  {
   "cell_type": "markdown",
   "metadata": {},
   "source": [
    "Existe un dato erróneo: M7. El dato se cambiará por M."
   ]
  },
  {
   "cell_type": "code",
   "execution_count": 12,
   "metadata": {},
   "outputs": [],
   "source": [
    "df = df.withColumn('sexo', when(F.col('sexo') == 'M7', 'M').otherwise(F.col('sexo')))"
   ]
  },
  {
   "cell_type": "code",
   "execution_count": 13,
   "metadata": {
    "scrolled": true
   },
   "outputs": [
    {
     "name": "stdout",
     "output_type": "stream",
     "text": [
      "+----+-----+\n",
      "|sexo|count|\n",
      "+----+-----+\n",
      "|   F| 2330|\n",
      "|   M| 2779|\n",
      "+----+-----+\n",
      "\n"
     ]
    }
   ],
   "source": [
    "df.groupBy('sexo').count().show()"
   ]
  },
  {
   "cell_type": "markdown",
   "metadata": {},
   "source": [
    "### Cálculo de cantidad de días de vacaciones disponibles de cada empleado"
   ]
  },
  {
   "cell_type": "markdown",
   "metadata": {},
   "source": [
    "Este feature se calcula a partir de la columna dias_pendientes"
   ]
  },
  {
   "cell_type": "markdown",
   "metadata": {},
   "source": [
    "- Cantidad de dias_pendientes < 0"
   ]
  },
  {
   "cell_type": "markdown",
   "metadata": {},
   "source": [
    "Si dias_pendiente < 0, significa que el empleado ha tomado esos días demás con respecto a los dias_derecho que disponía hasta ese período"
   ]
  },
  {
   "cell_type": "code",
   "execution_count": 14,
   "metadata": {},
   "outputs": [
    {
     "data": {
      "text/plain": [
       "588"
      ]
     },
     "execution_count": 14,
     "metadata": {},
     "output_type": "execute_result"
    }
   ],
   "source": [
    "df.filter(df['dias_pendiente'] < 0).count()"
   ]
  },
  {
   "cell_type": "markdown",
   "metadata": {},
   "source": [
    "El cálculo de días de vacaciones viene en función de la columna **dias_pendiente**.\n",
    "\n",
    "dias_derecho = días que puede disfrutar de vacaciones.\n",
    "\n",
    "dias_pendiente = días que dispone para vacaciones. Si el valor el negativo, es porque ha gastado más de las que dispone en ese momento como acreditadas.\n",
    "\n",
    "\n",
    "\n",
    "Se calcula de la siguiente forma:\n",
    "\n",
    "    Si dias_pendiente < 0, Vacaciones = 0, de lo contrario\n",
    "                            Vacaciones = dias_pendiente\n",
    "\n",
    "Por tanto, dias_pendiente < 0, la persona a tomado más días de vacaciones de las que tiene disponible."
   ]
  },
  {
   "cell_type": "code",
   "execution_count": 15,
   "metadata": {},
   "outputs": [],
   "source": [
    "df = df.withColumn(\n",
    "    'dias_vacaciones', when(F.col('dias_pendiente') < 0, lit(0).cast('float'))\n",
    "    .otherwise(F.col('dias_pendiente')).cast('float'))"
   ]
  },
  {
   "cell_type": "markdown",
   "metadata": {},
   "source": [
    "Visualización de cómo queda el Schema (tipo de dato de la columna dias_vacaciones creada)"
   ]
  },
  {
   "cell_type": "code",
   "execution_count": 16,
   "metadata": {
    "scrolled": false
   },
   "outputs": [
    {
     "name": "stdout",
     "output_type": "stream",
     "text": [
      "root\n",
      " |-- cedula: string (nullable = true)\n",
      " |-- cod_planilla: string (nullable = true)\n",
      " |-- fecha_ingreso: string (nullable = true)\n",
      " |-- fecha_nacimiento: string (nullable = true)\n",
      " |-- jornada_trabajo: string (nullable = true)\n",
      " |-- cod_puesto: string (nullable = true)\n",
      " |-- sexo: string (nullable = true)\n",
      " |-- cod_concepto_salarial: string (nullable = true)\n",
      " |-- cod_area: string (nullable = true)\n",
      " |-- dias_derecho: decimal(38,18) (nullable = true)\n",
      " |-- salario: decimal(38,18) (nullable = true)\n",
      " |-- provincia: integer (nullable = true)\n",
      " |-- dias_pendiente: decimal(38,18) (nullable = true)\n",
      " |-- edad: integer (nullable = true)\n",
      " |-- estado_civil: string (nullable = true)\n",
      " |-- dias_vacaciones: float (nullable = true)\n",
      "\n"
     ]
    }
   ],
   "source": [
    "df.printSchema()"
   ]
  },
  {
   "cell_type": "markdown",
   "metadata": {},
   "source": [
    "- Visualización parcial de los datos para las columnas dias:"
   ]
  },
  {
   "cell_type": "code",
   "execution_count": 17,
   "metadata": {
    "scrolled": true
   },
   "outputs": [
    {
     "name": "stdout",
     "output_type": "stream",
     "text": [
      "+--------------------+--------------------+---------------+\n",
      "|        dias_derecho|      dias_pendiente|dias_vacaciones|\n",
      "+--------------------+--------------------+---------------+\n",
      "|30.00000000000000...|31.00000000000000...|           31.0|\n",
      "|30.00000000000000...|13.00000000000000...|           13.0|\n",
      "|18.00000000000000...|5.000000000000000000|            5.0|\n",
      "|30.00000000000000...|-3.50000000000000...|            0.0|\n",
      "|30.00000000000000...|36.00000000000000...|           36.0|\n",
      "+--------------------+--------------------+---------------+\n",
      "only showing top 5 rows\n",
      "\n"
     ]
    }
   ],
   "source": [
    "df.select(['dias_derecho', 'dias_pendiente', 'dias_vacaciones']).show(5)"
   ]
  },
  {
   "cell_type": "markdown",
   "metadata": {},
   "source": [
    "- Verificación de que NO existen valores negativos en columna **dias_vacaciones**"
   ]
  },
  {
   "cell_type": "markdown",
   "metadata": {},
   "source": [
    "a) Cantidad de dias_vacaciones = 0"
   ]
  },
  {
   "cell_type": "code",
   "execution_count": 18,
   "metadata": {},
   "outputs": [
    {
     "data": {
      "text/plain": [
       "704"
      ]
     },
     "execution_count": 18,
     "metadata": {},
     "output_type": "execute_result"
    }
   ],
   "source": [
    "df.filter(df['dias_vacaciones'] == 0).count()"
   ]
  },
  {
   "cell_type": "markdown",
   "metadata": {},
   "source": [
    "- Verificación de si existe días de vacaciones negativos:"
   ]
  },
  {
   "cell_type": "code",
   "execution_count": 19,
   "metadata": {},
   "outputs": [
    {
     "data": {
      "text/plain": [
       "0"
      ]
     },
     "execution_count": 19,
     "metadata": {},
     "output_type": "execute_result"
    }
   ],
   "source": [
    "df.filter(df['dias_vacaciones'] < 0).count()"
   ]
  },
  {
   "cell_type": "markdown",
   "metadata": {},
   "source": [
    "b) Cantidad de dias_pendiente < 0"
   ]
  },
  {
   "cell_type": "code",
   "execution_count": 20,
   "metadata": {},
   "outputs": [
    {
     "data": {
      "text/plain": [
       "588"
      ]
     },
     "execution_count": 20,
     "metadata": {},
     "output_type": "execute_result"
    }
   ],
   "source": [
    "df.filter(df['dias_pendiente'] < 0).count()"
   ]
  },
  {
   "cell_type": "markdown",
   "metadata": {},
   "source": [
    "c) Cantidad de dias en los que se debe tener vacaciones 0 0 (se ha gastado el total de días que puede disfrutar)"
   ]
  },
  {
   "cell_type": "code",
   "execution_count": 21,
   "metadata": {},
   "outputs": [
    {
     "data": {
      "text/plain": [
       "116"
      ]
     },
     "execution_count": 21,
     "metadata": {},
     "output_type": "execute_result"
    }
   ],
   "source": [
    "df.filter(df['dias_pendiente'] == 0).count()"
   ]
  },
  {
   "cell_type": "markdown",
   "metadata": {},
   "source": [
    "Como b) + c) = a), la conversión de datos está bien."
   ]
  },
  {
   "cell_type": "markdown",
   "metadata": {},
   "source": [
    "### - Descripción de los datos"
   ]
  },
  {
   "cell_type": "code",
   "execution_count": 22,
   "metadata": {},
   "outputs": [
    {
     "data": {
      "text/html": [
       "<div>\n",
       "<style scoped>\n",
       "    .dataframe tbody tr th:only-of-type {\n",
       "        vertical-align: middle;\n",
       "    }\n",
       "\n",
       "    .dataframe tbody tr th {\n",
       "        vertical-align: top;\n",
       "    }\n",
       "\n",
       "    .dataframe thead th {\n",
       "        text-align: right;\n",
       "    }\n",
       "</style>\n",
       "<table border=\"1\" class=\"dataframe\">\n",
       "  <thead>\n",
       "    <tr style=\"text-align: right;\">\n",
       "      <th></th>\n",
       "      <th>0</th>\n",
       "      <th>1</th>\n",
       "      <th>2</th>\n",
       "      <th>3</th>\n",
       "      <th>4</th>\n",
       "    </tr>\n",
       "  </thead>\n",
       "  <tbody>\n",
       "    <tr>\n",
       "      <th>summary</th>\n",
       "      <td>count</td>\n",
       "      <td>mean</td>\n",
       "      <td>stddev</td>\n",
       "      <td>min</td>\n",
       "      <td>max</td>\n",
       "    </tr>\n",
       "    <tr>\n",
       "      <th>cedula</th>\n",
       "      <td>5109</td>\n",
       "      <td>2.3404361045292622E8</td>\n",
       "      <td>1.943004107621378E8</td>\n",
       "      <td>0017081120</td>\n",
       "      <td>0901350103</td>\n",
       "    </tr>\n",
       "    <tr>\n",
       "      <th>cod_planilla</th>\n",
       "      <td>5109</td>\n",
       "      <td>None</td>\n",
       "      <td>None</td>\n",
       "      <td>Q</td>\n",
       "      <td>Q</td>\n",
       "    </tr>\n",
       "    <tr>\n",
       "      <th>fecha_ingreso</th>\n",
       "      <td>5109</td>\n",
       "      <td>None</td>\n",
       "      <td>None</td>\n",
       "      <td>1/1/1988</td>\n",
       "      <td>9/9/2019</td>\n",
       "    </tr>\n",
       "    <tr>\n",
       "      <th>fecha_nacimiento</th>\n",
       "      <td>5109</td>\n",
       "      <td>None</td>\n",
       "      <td>None</td>\n",
       "      <td>1953-09-14</td>\n",
       "      <td>2001-01-13</td>\n",
       "    </tr>\n",
       "    <tr>\n",
       "      <th>jornada_trabajo</th>\n",
       "      <td>5109</td>\n",
       "      <td>None</td>\n",
       "      <td>None</td>\n",
       "      <td>A</td>\n",
       "      <td>A</td>\n",
       "    </tr>\n",
       "    <tr>\n",
       "      <th>cod_puesto</th>\n",
       "      <td>5109</td>\n",
       "      <td>None</td>\n",
       "      <td>None</td>\n",
       "      <td>ASB1.01</td>\n",
       "      <td>SUBG.02</td>\n",
       "    </tr>\n",
       "    <tr>\n",
       "      <th>sexo</th>\n",
       "      <td>5109</td>\n",
       "      <td>None</td>\n",
       "      <td>None</td>\n",
       "      <td>F</td>\n",
       "      <td>M</td>\n",
       "    </tr>\n",
       "    <tr>\n",
       "      <th>cod_concepto_salarial</th>\n",
       "      <td>5109</td>\n",
       "      <td>30.216284987277355</td>\n",
       "      <td>16.875215739153187</td>\n",
       "      <td>1</td>\n",
       "      <td>7</td>\n",
       "    </tr>\n",
       "    <tr>\n",
       "      <th>cod_area</th>\n",
       "      <td>5109</td>\n",
       "      <td>58.252104129966725</td>\n",
       "      <td>21.211345098806586</td>\n",
       "      <td>1</td>\n",
       "      <td>7</td>\n",
       "    </tr>\n",
       "    <tr>\n",
       "      <th>dias_derecho</th>\n",
       "      <td>5109</td>\n",
       "      <td>22.6876100998238402820000</td>\n",
       "      <td>5.8635860770948165</td>\n",
       "      <td>9.000000000000000000</td>\n",
       "      <td>30.000000000000000000</td>\n",
       "    </tr>\n",
       "    <tr>\n",
       "      <th>salario</th>\n",
       "      <td>5109</td>\n",
       "      <td>467282.6435427676649050690000</td>\n",
       "      <td>375806.1984321479</td>\n",
       "      <td>2430.810000000000000000</td>\n",
       "      <td>7583334.960000000000000000</td>\n",
       "    </tr>\n",
       "    <tr>\n",
       "      <th>provincia</th>\n",
       "      <td>5109</td>\n",
       "      <td>2.114112350753572</td>\n",
       "      <td>1.7127551624724702</td>\n",
       "      <td>1</td>\n",
       "      <td>7</td>\n",
       "    </tr>\n",
       "    <tr>\n",
       "      <th>dias_pendiente</th>\n",
       "      <td>5109</td>\n",
       "      <td>13.3488941084360931690000</td>\n",
       "      <td>13.876823790002142</td>\n",
       "      <td>-39.000000000000000000</td>\n",
       "      <td>144.000000000000000000</td>\n",
       "    </tr>\n",
       "    <tr>\n",
       "      <th>edad</th>\n",
       "      <td>5109</td>\n",
       "      <td>41.3047563123899</td>\n",
       "      <td>10.919479035213696</td>\n",
       "      <td>19</td>\n",
       "      <td>67</td>\n",
       "    </tr>\n",
       "    <tr>\n",
       "      <th>estado_civil</th>\n",
       "      <td>5109</td>\n",
       "      <td>None</td>\n",
       "      <td>None</td>\n",
       "      <td>C</td>\n",
       "      <td>V</td>\n",
       "    </tr>\n",
       "    <tr>\n",
       "      <th>dias_vacaciones</th>\n",
       "      <td>5109</td>\n",
       "      <td>13.856919162262674</td>\n",
       "      <td>13.180281984264706</td>\n",
       "      <td>0.0</td>\n",
       "      <td>144.0</td>\n",
       "    </tr>\n",
       "  </tbody>\n",
       "</table>\n",
       "</div>"
      ],
      "text/plain": [
       "                           0                              1  \\\n",
       "summary                count                           mean   \n",
       "cedula                  5109           2.3404361045292622E8   \n",
       "cod_planilla            5109                           None   \n",
       "fecha_ingreso           5109                           None   \n",
       "fecha_nacimiento        5109                           None   \n",
       "jornada_trabajo         5109                           None   \n",
       "cod_puesto              5109                           None   \n",
       "sexo                    5109                           None   \n",
       "cod_concepto_salarial   5109             30.216284987277355   \n",
       "cod_area                5109             58.252104129966725   \n",
       "dias_derecho            5109      22.6876100998238402820000   \n",
       "salario                 5109  467282.6435427676649050690000   \n",
       "provincia               5109              2.114112350753572   \n",
       "dias_pendiente          5109      13.3488941084360931690000   \n",
       "edad                    5109               41.3047563123899   \n",
       "estado_civil            5109                           None   \n",
       "dias_vacaciones         5109             13.856919162262674   \n",
       "\n",
       "                                         2                        3  \\\n",
       "summary                             stddev                      min   \n",
       "cedula                 1.943004107621378E8               0017081120   \n",
       "cod_planilla                          None                        Q   \n",
       "fecha_ingreso                         None                 1/1/1988   \n",
       "fecha_nacimiento                      None               1953-09-14   \n",
       "jornada_trabajo                       None                        A   \n",
       "cod_puesto                            None                  ASB1.01   \n",
       "sexo                                  None                        F   \n",
       "cod_concepto_salarial   16.875215739153187                        1   \n",
       "cod_area                21.211345098806586                        1   \n",
       "dias_derecho            5.8635860770948165     9.000000000000000000   \n",
       "salario                  375806.1984321479  2430.810000000000000000   \n",
       "provincia               1.7127551624724702                        1   \n",
       "dias_pendiente          13.876823790002142   -39.000000000000000000   \n",
       "edad                    10.919479035213696                       19   \n",
       "estado_civil                          None                        C   \n",
       "dias_vacaciones         13.180281984264706                      0.0   \n",
       "\n",
       "                                                4  \n",
       "summary                                       max  \n",
       "cedula                                 0901350103  \n",
       "cod_planilla                                    Q  \n",
       "fecha_ingreso                            9/9/2019  \n",
       "fecha_nacimiento                       2001-01-13  \n",
       "jornada_trabajo                                 A  \n",
       "cod_puesto                                SUBG.02  \n",
       "sexo                                            M  \n",
       "cod_concepto_salarial                           7  \n",
       "cod_area                                        7  \n",
       "dias_derecho                30.000000000000000000  \n",
       "salario                7583334.960000000000000000  \n",
       "provincia                                       7  \n",
       "dias_pendiente             144.000000000000000000  \n",
       "edad                                           67  \n",
       "estado_civil                                    V  \n",
       "dias_vacaciones                             144.0  "
      ]
     },
     "execution_count": 22,
     "metadata": {},
     "output_type": "execute_result"
    }
   ],
   "source": [
    "# Descripción de features del dataframe:\n",
    "df_select1 = df.columns\n",
    "\n",
    "df_describe = df.select([c for c in df_select1]).describe().toPandas().transpose()\n",
    "df.select([c for c in df_select1]).describe().toPandas().transpose()"
   ]
  },
  {
   "cell_type": "markdown",
   "metadata": {},
   "source": [
    "### **ATRIBUTOS / LABEL A EMPLEAR EN EL MODELO DE CLASIFICACIÓN**"
   ]
  },
  {
   "cell_type": "markdown",
   "metadata": {},
   "source": [
    "Se utilizará los siguientes atributos en el modelo de clasificación:\n",
    "\n",
    "## <font color='green'>**FEATURES** </font>: \n",
    "\n",
    "<font color='blue'>**edad**</font>       =   <font color='magenta'>(DATO NUMÉRICO)</font>\n",
    "\n",
    "<font color='blue'>**sexo**</font>       =   <font color='magenta'>(DATO CATEGÓRICO - BINARIO)</font>\n",
    "     \n",
    "<font color='blue'>**salario**</font>      =   <font color='magenta'>(DATO NUMÉRICO)</font>\n",
    " \n",
    "<font color='blue'>**provincia**</font>      =  <font color='magenta'>(DATO CATEGÓRICO - ONE HOT ENCODER)</font>\n",
    " \n",
    "<font color='blue'>**cod_concepto_salarial**</font>     =  <font color='magenta'>(DATO CATEGÓRICO - ONE HOT ENCODER)</font>\n",
    "     \n",
    "<font color='blue'>**estado_civil**</font>  =   <font color='magenta'>(DATO CATEGÓRICO - ONE HOT ENCODER)</font>\n",
    "\n",
    "\n",
    "\n",
    "\n",
    "## <font color='red'>**LABEL** </font>: \n",
    "\n",
    "<font color='blue'>**vacaciones**</font>  =  <font color='magenta'>(DATO NUMÉRICO)</font>"
   ]
  },
  {
   "cell_type": "markdown",
   "metadata": {},
   "source": [
    "##### Asignación de Atributos a evaluar en el dataset :"
   ]
  },
  {
   "cell_type": "code",
   "execution_count": 23,
   "metadata": {},
   "outputs": [],
   "source": [
    "df = df[['edad', 'sexo', 'salario', 'provincia', 'cod_concepto_salarial', 'estado_civil', 'dias_vacaciones']]"
   ]
  },
  {
   "cell_type": "code",
   "execution_count": 24,
   "metadata": {},
   "outputs": [
    {
     "name": "stdout",
     "output_type": "stream",
     "text": [
      "root\n",
      " |-- edad: integer (nullable = true)\n",
      " |-- sexo: string (nullable = true)\n",
      " |-- salario: decimal(38,18) (nullable = true)\n",
      " |-- provincia: integer (nullable = true)\n",
      " |-- cod_concepto_salarial: string (nullable = true)\n",
      " |-- estado_civil: string (nullable = true)\n",
      " |-- dias_vacaciones: float (nullable = true)\n",
      "\n"
     ]
    }
   ],
   "source": [
    "df.printSchema()"
   ]
  },
  {
   "cell_type": "markdown",
   "metadata": {},
   "source": [
    "## Transformación de datos del Dataset"
   ]
  },
  {
   "cell_type": "markdown",
   "metadata": {},
   "source": [
    "### Variables categóricas (DATOS BINARIOS)\n",
    "\n",
    "Del conjunto de datos se identifican las siguientes variables categoricas a convertir en datos binarios:\n",
    "\n",
    "**sexo (Atributo)**\n",
    "\n",
    "\n",
    "La convención a utilizar será:\n",
    "\n",
    "**<font color='blue'>M</font>** = <font color='blue'>1</font>\n",
    "\n",
    "**<font color='blue'>F</font>** = <font color='blue'>0</font>"
   ]
  },
  {
   "cell_type": "markdown",
   "metadata": {},
   "source": [
    "* **Atributo: sexo**"
   ]
  },
  {
   "cell_type": "code",
   "execution_count": 25,
   "metadata": {},
   "outputs": [],
   "source": [
    "df = df.withColumn('sexo', F.when(F.col('sexo') == \"M\", 1).otherwise(F.col('sexo')))\n",
    "\n",
    "df = df.withColumn('sexo', F.when(F.col('sexo') == \"F\", 0).otherwise(F.col('sexo')))"
   ]
  },
  {
   "cell_type": "markdown",
   "metadata": {},
   "source": [
    "- Verificación de la conversión a variable categórica (dato binario) del atributo 'sexo':"
   ]
  },
  {
   "cell_type": "code",
   "execution_count": 26,
   "metadata": {
    "scrolled": true
   },
   "outputs": [
    {
     "name": "stdout",
     "output_type": "stream",
     "text": [
      "+----+-----+\n",
      "|sexo|count|\n",
      "+----+-----+\n",
      "|   0| 2330|\n",
      "|   1| 2779|\n",
      "+----+-----+\n",
      "\n"
     ]
    }
   ],
   "source": [
    "df.groupBy('sexo').count().show()"
   ]
  },
  {
   "cell_type": "markdown",
   "metadata": {},
   "source": [
    "Existe una población casi del 50% de datos de cada sexo"
   ]
  },
  {
   "cell_type": "markdown",
   "metadata": {},
   "source": [
    "- **Cambio de tipo de dato a la columna sexo:**"
   ]
  },
  {
   "cell_type": "markdown",
   "metadata": {},
   "source": [
    "Para poder aplicar el vector Ensamblador al atributo 'sexo', se requiere que esta columna que tipo String, sea de tipo numérica. Por este motivo, se efectúa el cambio de tipo de columna a integer."
   ]
  },
  {
   "cell_type": "code",
   "execution_count": 27,
   "metadata": {},
   "outputs": [],
   "source": [
    "df = df.withColumn('sexo',F.col('sexo').cast('integer'))"
   ]
  },
  {
   "cell_type": "code",
   "execution_count": 28,
   "metadata": {},
   "outputs": [
    {
     "name": "stdout",
     "output_type": "stream",
     "text": [
      "root\n",
      " |-- edad: integer (nullable = true)\n",
      " |-- sexo: integer (nullable = true)\n",
      " |-- salario: decimal(38,18) (nullable = true)\n",
      " |-- provincia: integer (nullable = true)\n",
      " |-- cod_concepto_salarial: string (nullable = true)\n",
      " |-- estado_civil: string (nullable = true)\n",
      " |-- dias_vacaciones: float (nullable = true)\n",
      "\n"
     ]
    }
   ],
   "source": [
    "df.printSchema()"
   ]
  },
  {
   "cell_type": "markdown",
   "metadata": {},
   "source": [
    "## Feature Engineering"
   ]
  },
  {
   "cell_type": "markdown",
   "metadata": {},
   "source": [
    "### Cambio de nombre de columna: dias_vacaciones por <font color='red'>**label** </font>"
   ]
  },
  {
   "cell_type": "code",
   "execution_count": 31,
   "metadata": {},
   "outputs": [],
   "source": [
    "df = df.withColumnRenamed('dias_vacaciones', 'label')"
   ]
  },
  {
   "cell_type": "markdown",
   "metadata": {},
   "source": [
    "- Visualización del esquema del DataFrame por el cambio en nombre columna:"
   ]
  },
  {
   "cell_type": "code",
   "execution_count": 32,
   "metadata": {
    "scrolled": true
   },
   "outputs": [
    {
     "name": "stdout",
     "output_type": "stream",
     "text": [
      "root\n",
      " |-- edad: integer (nullable = true)\n",
      " |-- sexo: integer (nullable = true)\n",
      " |-- salario: decimal(38,18) (nullable = true)\n",
      " |-- provincia: integer (nullable = true)\n",
      " |-- cod_concepto_salarial: string (nullable = true)\n",
      " |-- estado_civil: string (nullable = true)\n",
      " |-- label: float (nullable = true)\n",
      "\n"
     ]
    }
   ],
   "source": [
    "df.printSchema()"
   ]
  },
  {
   "cell_type": "markdown",
   "metadata": {},
   "source": [
    "### Variables categóricas (tipo One Hot Encoder)\n",
    "\n",
    "Del conjunto de datos se identifican las siguientes variables categoricas a convertir en datos numéricos (One Hot Encoder):\n",
    "\n",
    "**provincia (Atributo):** 7 valores posibles\n",
    "\n",
    "**cod_concepto_salarial (Atributo):** 9 valores posibles\n",
    "\n",
    "**estado_civil (Atributo):** 5 valores posibles"
   ]
  },
  {
   "cell_type": "markdown",
   "metadata": {},
   "source": [
    "- Importación de Librerías requeridas para conversión de variable categórica a varible numérica tipo One Hot Encoder"
   ]
  },
  {
   "cell_type": "code",
   "execution_count": 33,
   "metadata": {},
   "outputs": [],
   "source": [
    "#converting categorical data to numerical form\n",
    "\n",
    "#import required libraries\n",
    "from pyspark.ml.feature import OneHotEncoder, StringIndexer, VectorAssembler"
   ]
  },
  {
   "cell_type": "markdown",
   "metadata": {},
   "source": [
    "#### One Hot Encoder para atributo *provincia*"
   ]
  },
  {
   "cell_type": "markdown",
   "metadata": {},
   "source": [
    "- Se define el vector de transformación para el atributo "
   ]
  },
  {
   "cell_type": "code",
   "execution_count": 34,
   "metadata": {},
   "outputs": [],
   "source": [
    "#definición del vector encoder para el atributo\n",
    "provincia_indexer = StringIndexer(inputCol=\"provincia\", outputCol=\"provincia_index\").fit(df)\n",
    "df = provincia_indexer.transform(df)\n",
    "provincia_encoder = OneHotEncoder(inputCol=\"provincia_index\", outputCol=\"provincia_vec\")\n",
    "df = provincia_encoder.transform(df)"
   ]
  },
  {
   "cell_type": "markdown",
   "metadata": {},
   "source": [
    "- Visualización de vector orginal y vectores transformadores:"
   ]
  },
  {
   "cell_type": "code",
   "execution_count": 35,
   "metadata": {},
   "outputs": [
    {
     "name": "stdout",
     "output_type": "stream",
     "text": [
      "+---------+---------------+-------------+\n",
      "|provincia|provincia_index|provincia_vec|\n",
      "+---------+---------------+-------------+\n",
      "|1        |0.0            |(6,[0],[1.0])|\n",
      "|6        |4.0            |(6,[4],[1.0])|\n",
      "|1        |0.0            |(6,[0],[1.0])|\n",
      "|1        |0.0            |(6,[0],[1.0])|\n",
      "|1        |0.0            |(6,[0],[1.0])|\n",
      "|1        |0.0            |(6,[0],[1.0])|\n",
      "|1        |0.0            |(6,[0],[1.0])|\n",
      "|3        |2.0            |(6,[2],[1.0])|\n",
      "|1        |0.0            |(6,[0],[1.0])|\n",
      "|1        |0.0            |(6,[0],[1.0])|\n",
      "+---------+---------------+-------------+\n",
      "only showing top 10 rows\n",
      "\n"
     ]
    }
   ],
   "source": [
    "df.select(['provincia','provincia_index','provincia_vec']).show(10,False)"
   ]
  },
  {
   "cell_type": "markdown",
   "metadata": {},
   "source": [
    "#### One Hot Encoder para atributo *cod_concepto_salarial*"
   ]
  },
  {
   "cell_type": "code",
   "execution_count": 36,
   "metadata": {},
   "outputs": [],
   "source": [
    "#definición del vector encoder para el atributo\n",
    "ccsalarial_indexer = StringIndexer(inputCol=\"cod_concepto_salarial\", outputCol=\"ccsalarial_index\").fit(df)\n",
    "df = ccsalarial_indexer.transform(df)\n",
    "ccsalarial_encoder = OneHotEncoder(inputCol=\"ccsalarial_index\", outputCol=\"ccsalarial_vec\")\n",
    "df = ccsalarial_encoder.transform(df)"
   ]
  },
  {
   "cell_type": "code",
   "execution_count": 37,
   "metadata": {
    "scrolled": true
   },
   "outputs": [
    {
     "name": "stdout",
     "output_type": "stream",
     "text": [
      "+---------------------+----------------+--------------+\n",
      "|cod_concepto_salarial|ccsalarial_index|ccsalarial_vec|\n",
      "+---------------------+----------------+--------------+\n",
      "|41                   |0.0             |(8,[0],[1.0]) |\n",
      "|41                   |0.0             |(8,[0],[1.0]) |\n",
      "|41                   |0.0             |(8,[0],[1.0]) |\n",
      "|41                   |0.0             |(8,[0],[1.0]) |\n",
      "|4                    |5.0             |(8,[5],[1.0]) |\n",
      "|3                    |3.0             |(8,[3],[1.0]) |\n",
      "|41                   |0.0             |(8,[0],[1.0]) |\n",
      "|41                   |0.0             |(8,[0],[1.0]) |\n",
      "|41                   |0.0             |(8,[0],[1.0]) |\n",
      "|41                   |0.0             |(8,[0],[1.0]) |\n",
      "+---------------------+----------------+--------------+\n",
      "only showing top 10 rows\n",
      "\n"
     ]
    }
   ],
   "source": [
    "df.select(['cod_concepto_salarial','ccsalarial_index','ccsalarial_vec']).show(10,False)"
   ]
  },
  {
   "cell_type": "markdown",
   "metadata": {},
   "source": [
    "#### One Hot Encoder para atributo *estado_civil*"
   ]
  },
  {
   "cell_type": "code",
   "execution_count": 38,
   "metadata": {},
   "outputs": [],
   "source": [
    "#definición del vector encoder para el atributo\n",
    "estado_civil_indexer = StringIndexer(inputCol=\"estado_civil\", outputCol=\"estado_civil_index\").fit(df)\n",
    "df = estado_civil_indexer.transform(df)\n",
    "estado_civil_encoder = OneHotEncoder(inputCol=\"estado_civil_index\", outputCol=\"estado_civil_vec\")\n",
    "df = estado_civil_encoder.transform(df)"
   ]
  },
  {
   "cell_type": "code",
   "execution_count": 39,
   "metadata": {},
   "outputs": [
    {
     "name": "stdout",
     "output_type": "stream",
     "text": [
      "+------------+------------------+----------------+\n",
      "|estado_civil|estado_civil_index|estado_civil_vec|\n",
      "+------------+------------------+----------------+\n",
      "|S           |1.0               |(4,[1],[1.0])   |\n",
      "|C           |0.0               |(4,[0],[1.0])   |\n",
      "|C           |0.0               |(4,[0],[1.0])   |\n",
      "|S           |1.0               |(4,[1],[1.0])   |\n",
      "|C           |0.0               |(4,[0],[1.0])   |\n",
      "|S           |1.0               |(4,[1],[1.0])   |\n",
      "|C           |0.0               |(4,[0],[1.0])   |\n",
      "|C           |0.0               |(4,[0],[1.0])   |\n",
      "|S           |1.0               |(4,[1],[1.0])   |\n",
      "|S           |1.0               |(4,[1],[1.0])   |\n",
      "+------------+------------------+----------------+\n",
      "only showing top 10 rows\n",
      "\n"
     ]
    }
   ],
   "source": [
    "df.select(['estado_civil','estado_civil_index','estado_civil_vec']).show(10,False)"
   ]
  },
  {
   "cell_type": "markdown",
   "metadata": {},
   "source": [
    "* Validación de columnas en el DF después de la aplicación del OHE:"
   ]
  },
  {
   "cell_type": "code",
   "execution_count": 40,
   "metadata": {},
   "outputs": [
    {
     "data": {
      "text/plain": [
       "['edad',\n",
       " 'sexo',\n",
       " 'salario',\n",
       " 'provincia',\n",
       " 'cod_concepto_salarial',\n",
       " 'estado_civil',\n",
       " 'label',\n",
       " 'provincia_index',\n",
       " 'provincia_vec',\n",
       " 'ccsalarial_index',\n",
       " 'ccsalarial_vec',\n",
       " 'estado_civil_index',\n",
       " 'estado_civil_vec']"
      ]
     },
     "execution_count": 40,
     "metadata": {},
     "output_type": "execute_result"
    }
   ],
   "source": [
    "df.columns"
   ]
  },
  {
   "cell_type": "code",
   "execution_count": 41,
   "metadata": {},
   "outputs": [
    {
     "name": "stdout",
     "output_type": "stream",
     "text": [
      "root\n",
      " |-- edad: integer (nullable = true)\n",
      " |-- sexo: integer (nullable = true)\n",
      " |-- salario: decimal(38,18) (nullable = true)\n",
      " |-- provincia: integer (nullable = true)\n",
      " |-- cod_concepto_salarial: string (nullable = true)\n",
      " |-- estado_civil: string (nullable = true)\n",
      " |-- label: float (nullable = true)\n",
      " |-- provincia_index: double (nullable = false)\n",
      " |-- provincia_vec: vector (nullable = true)\n",
      " |-- ccsalarial_index: double (nullable = false)\n",
      " |-- ccsalarial_vec: vector (nullable = true)\n",
      " |-- estado_civil_index: double (nullable = false)\n",
      " |-- estado_civil_vec: vector (nullable = true)\n",
      "\n"
     ]
    }
   ],
   "source": [
    "df.printSchema()"
   ]
  },
  {
   "cell_type": "markdown",
   "metadata": {},
   "source": [
    "* Uso del \"VectorAssembler\" para crear un único vector de features y clase, para ser usado en el modelo de entrenamiento:"
   ]
  },
  {
   "cell_type": "markdown",
   "metadata": {},
   "source": [
    "* Construcción del vector ensamblador:"
   ]
  },
  {
   "cell_type": "code",
   "execution_count": 42,
   "metadata": {},
   "outputs": [],
   "source": [
    "# Vector Ensamblador\n",
    "\n",
    "# VectorAssembler\" para crear un único vector de features y clase, para ser usado por nuestro modelo de entrenamiento\n",
    "from pyspark.ml.feature import VectorAssembler\n",
    "\n",
    "# Construcción del vector:\n",
    "df_assembler = VectorAssembler(inputCols=['edad',\n",
    " 'sexo',\n",
    " 'salario',\n",
    " 'provincia_vec',\n",
    " 'ccsalarial_vec',\n",
    " 'estado_civil_vec'], outputCol=\"features\")\n",
    "df = df_assembler.transform(df)"
   ]
  },
  {
   "cell_type": "code",
   "execution_count": 64,
   "metadata": {},
   "outputs": [
    {
     "name": "stdout",
     "output_type": "stream",
     "text": [
      "+-----------------------------------------------------+-----+\n",
      "|features                                             |label|\n",
      "+-----------------------------------------------------+-----+\n",
      "|(21,[0,1,2,3,9,18],[48.0,1.0,1222186.43,1.0,1.0,1.0])|31.0 |\n",
      "|(21,[0,1,2,7,9,17],[41.0,1.0,464802.17,1.0,1.0,1.0]) |13.0 |\n",
      "|(21,[0,1,2,3,9,17],[30.0,1.0,361921.41,1.0,1.0,1.0]) |5.0  |\n",
      "|(21,[0,2,3,9,18],[37.0,464802.17,1.0,1.0,1.0])       |0.0  |\n",
      "|(21,[0,1,2,3,14,17],[61.0,1.0,176562.82,1.0,1.0,1.0])|36.0 |\n",
      "|(21,[0,2,3,12,18],[44.0,190473.26,1.0,1.0,1.0])      |5.0  |\n",
      "|(21,[0,1,2,3,9,17],[43.0,1.0,464802.17,1.0,1.0,1.0]) |15.0 |\n",
      "|(21,[0,2,5,9,17],[50.0,464802.17,1.0,1.0,1.0])       |30.0 |\n",
      "|(21,[0,1,2,3,9,18],[25.0,1.0,464802.17,1.0,1.0,1.0]) |13.0 |\n",
      "|(21,[0,2,3,9,18],[34.0,574154.48,1.0,1.0,1.0])       |4.5  |\n",
      "+-----------------------------------------------------+-----+\n",
      "only showing top 10 rows\n",
      "\n"
     ]
    }
   ],
   "source": [
    "# visulizacion de vector ensamblado compuesto por features y label\n",
    "\n",
    "df.select(['features','label']).show(10,False)"
   ]
  },
  {
   "cell_type": "markdown",
   "metadata": {},
   "source": [
    "## Training Set - Testing Set"
   ]
  },
  {
   "cell_type": "markdown",
   "metadata": {},
   "source": [
    "* Partición del set de datos en:\n",
    "\n",
    "75% training \n",
    "\n",
    "25% testing:"
   ]
  },
  {
   "cell_type": "code",
   "execution_count": 45,
   "metadata": {},
   "outputs": [
    {
     "name": "stdout",
     "output_type": "stream",
     "text": [
      "Size of train Dataset : 3847\n",
      "Size of test Dataset : 1262\n"
     ]
    }
   ],
   "source": [
    "# Particion del data set\n",
    "\n",
    "#select data for building model\n",
    "model_df=df.select(['features','label'])\n",
    "\n",
    "#split the data \n",
    "train,test = model_df.randomSplit([0.75,0.25])\n",
    "\n",
    "print(f\"Size of train Dataset : {train.count()}\" )\n",
    "print(f\"Size of test Dataset : {test.count()}\" )"
   ]
  },
  {
   "cell_type": "markdown",
   "metadata": {},
   "source": [
    "## 1) Evaluación predictivo con Modelo Linear Regression "
   ]
  },
  {
   "cell_type": "markdown",
   "metadata": {},
   "source": [
    "* Importación de librerías correspondientes a **LinearRegression**, así como las de OneHotEncoder, StringIndexer, VectorAssembler:"
   ]
  },
  {
   "cell_type": "code",
   "execution_count": 46,
   "metadata": {},
   "outputs": [],
   "source": [
    "# Importacion de libs y operaciones\n",
    "\n",
    "from pyspark.ml.feature import OneHotEncoder, StringIndexer, VectorAssembler\n",
    "\n",
    "from pyspark.ml.regression import LinearRegression"
   ]
  },
  {
   "cell_type": "markdown",
   "metadata": {},
   "source": [
    "* Creación del Regresor Lineal: "
   ]
  },
  {
   "cell_type": "code",
   "execution_count": 47,
   "metadata": {},
   "outputs": [],
   "source": [
    "lr = LinearRegression()"
   ]
  },
  {
   "cell_type": "markdown",
   "metadata": {},
   "source": [
    "* Entrenamiento del modelo de regresión lineal:"
   ]
  },
  {
   "cell_type": "code",
   "execution_count": 48,
   "metadata": {},
   "outputs": [],
   "source": [
    "# Fit the model, le llamamos lr_model\n",
    "lr_model = lr.fit(train)"
   ]
  },
  {
   "cell_type": "markdown",
   "metadata": {},
   "source": [
    "* Creación del dataframe de prediciones (*predictions_df*) a partir del modelo de entrenamiento y el conjunto de datos test: "
   ]
  },
  {
   "cell_type": "code",
   "execution_count": 49,
   "metadata": {},
   "outputs": [],
   "source": [
    "predictions_df = lr_model.transform(test)"
   ]
  },
  {
   "cell_type": "markdown",
   "metadata": {},
   "source": [
    "* Visualización del contenido de *predictions_df*:"
   ]
  },
  {
   "cell_type": "code",
   "execution_count": 50,
   "metadata": {},
   "outputs": [
    {
     "name": "stdout",
     "output_type": "stream",
     "text": [
      "+--------------------+-----+------------------+\n",
      "|            features|label|        prediction|\n",
      "+--------------------+-----+------------------+\n",
      "|(21,[0,1,2,3,9,17...| 15.0|6.3993041972383935|\n",
      "|(21,[0,1,2,3,9,17...|  9.0| 6.742107711622191|\n",
      "|(21,[0,1,2,3,9,17...|  0.0| 6.626163666927315|\n",
      "|(21,[0,1,2,3,9,17...| 12.0| 6.913509468814089|\n",
      "|(21,[0,1,2,3,9,17...|  4.5| 7.206288443627118|\n",
      "|(21,[0,1,2,3,9,17...|  0.0| 6.968967181311115|\n",
      "|(21,[0,1,2,3,9,17...|  5.0| 7.256312983197889|\n",
      "|(21,[0,1,2,3,9,17...|  3.0| 7.427714740389787|\n",
      "|(21,[0,1,2,3,9,17...|  1.0| 8.292756335742402|\n",
      "|(21,[0,1,2,3,9,17...|  4.5| 8.464158092934301|\n",
      "+--------------------+-----+------------------+\n",
      "only showing top 10 rows\n",
      "\n"
     ]
    }
   ],
   "source": [
    "# visulizacion de predictions_df\n",
    "\n",
    "predictions_df.show(10)"
   ]
  },
  {
   "cell_type": "markdown",
   "metadata": {},
   "source": [
    "* Evaluación del modelo de Regresión Lineal, con los datos de TEST:"
   ]
  },
  {
   "cell_type": "code",
   "execution_count": 51,
   "metadata": {},
   "outputs": [],
   "source": [
    "# evaluacion del modelo, le llamaremos model_predictions\n",
    "\n",
    "model_predictions = lr_model.evaluate(test)"
   ]
  },
  {
   "cell_type": "markdown",
   "metadata": {},
   "source": [
    "* Cálculo el valor de R2:"
   ]
  },
  {
   "cell_type": "code",
   "execution_count": 52,
   "metadata": {},
   "outputs": [
    {
     "data": {
      "text/plain": [
       "0.23100427146959668"
      ]
     },
     "execution_count": 52,
     "metadata": {},
     "output_type": "execute_result"
    }
   ],
   "source": [
    "# valor de R2\n",
    "\n",
    "lr_model.evaluate(test).r2"
   ]
  },
  {
   "cell_type": "markdown",
   "metadata": {},
   "source": [
    "* Cálculo el valor del RootMeanSquaredError:"
   ]
  },
  {
   "cell_type": "code",
   "execution_count": 53,
   "metadata": {},
   "outputs": [
    {
     "data": {
      "text/plain": [
       "11.248871394332603"
      ]
     },
     "execution_count": 53,
     "metadata": {},
     "output_type": "execute_result"
    }
   ],
   "source": [
    "# valor del RootMeanSquaredError (RMSE)\n",
    "\n",
    "lr_model.evaluate(test).rootMeanSquaredError"
   ]
  },
  {
   "cell_type": "markdown",
   "metadata": {},
   "source": [
    "## 2) Evaluación predictivo con Modelo RandomForestRegressor"
   ]
  },
  {
   "cell_type": "markdown",
   "metadata": {},
   "source": [
    "* Importación de librerías correspondientes a *RandomForestRegressor*"
   ]
  },
  {
   "cell_type": "code",
   "execution_count": 54,
   "metadata": {},
   "outputs": [],
   "source": [
    "# import lib\n",
    "\n",
    "from pyspark.ml.regression import RandomForestRegressor"
   ]
  },
  {
   "cell_type": "markdown",
   "metadata": {},
   "source": [
    "* Creación del Regresor RF:"
   ]
  },
  {
   "cell_type": "code",
   "execution_count": 55,
   "metadata": {},
   "outputs": [],
   "source": [
    "# Regresor \n",
    "\n",
    "rf = RandomForestRegressor()"
   ]
  },
  {
   "cell_type": "markdown",
   "metadata": {},
   "source": [
    "* Entrenamiento del modelo:"
   ]
  },
  {
   "cell_type": "code",
   "execution_count": 56,
   "metadata": {},
   "outputs": [],
   "source": [
    "# Train model, le llamaremos rf_model\n",
    "\n",
    "rf_model = rf.fit(train)"
   ]
  },
  {
   "cell_type": "markdown",
   "metadata": {},
   "source": [
    "* Despliegue de las *featureImportances*:"
   ]
  },
  {
   "cell_type": "code",
   "execution_count": 57,
   "metadata": {},
   "outputs": [
    {
     "data": {
      "text/plain": [
       "SparseVector(21, {0: 0.3236, 1: 0.0097, 2: 0.1362, 3: 0.0062, 4: 0.006, 5: 0.0048, 6: 0.0024, 7: 0.0024, 8: 0.0028, 9: 0.401, 10: 0.0283, 11: 0.019, 12: 0.0171, 13: 0.016, 14: 0.0022, 15: 0.0076, 16: 0.0009, 17: 0.0024, 18: 0.0075, 19: 0.0015, 20: 0.0022})"
      ]
     },
     "execution_count": 57,
     "metadata": {},
     "output_type": "execute_result"
    }
   ],
   "source": [
    "# importances \n",
    "\n",
    "rf_model.featureImportances"
   ]
  },
  {
   "cell_type": "markdown",
   "metadata": {},
   "source": [
    "* Despliegue del número de árboles (Num of Trees)"
   ]
  },
  {
   "cell_type": "code",
   "execution_count": 58,
   "metadata": {},
   "outputs": [
    {
     "data": {
      "text/plain": [
       "20"
      ]
     },
     "execution_count": 58,
     "metadata": {},
     "output_type": "execute_result"
    }
   ],
   "source": [
    "# Numero de Trees\n",
    "\n",
    "rf_model.getNumTrees"
   ]
  },
  {
   "cell_type": "markdown",
   "metadata": {},
   "source": [
    "* Evaluación del modelo con los datos de entrenamiento, se le llamará **model_predictions**:"
   ]
  },
  {
   "cell_type": "code",
   "execution_count": 59,
   "metadata": {},
   "outputs": [],
   "source": [
    "# model_predictions\n",
    "\n",
    "model_predictions = rf_model.transform(test)"
   ]
  },
  {
   "cell_type": "markdown",
   "metadata": {},
   "source": [
    "* Despliegue de los valores del *model_predictions*"
   ]
  },
  {
   "cell_type": "code",
   "execution_count": 60,
   "metadata": {},
   "outputs": [
    {
     "name": "stdout",
     "output_type": "stream",
     "text": [
      "+--------------------+-----+-----------------+\n",
      "|            features|label|       prediction|\n",
      "+--------------------+-----+-----------------+\n",
      "|(21,[0,1,2,3,9,17...| 15.0|7.863802366098879|\n",
      "|(21,[0,1,2,3,9,17...|  9.0|7.930022604194117|\n",
      "|(21,[0,1,2,3,9,17...|  0.0|5.161891227360012|\n",
      "|(21,[0,1,2,3,9,17...| 12.0| 8.05787174780413|\n",
      "|(21,[0,1,2,3,9,17...|  4.5| 8.05787174780413|\n",
      "|(21,[0,1,2,3,9,17...|  0.0| 6.50443846567549|\n",
      "|(21,[0,1,2,3,9,17...|  5.0|8.441848458286787|\n",
      "|(21,[0,1,2,3,9,17...|  3.0|8.536423142312064|\n",
      "|(21,[0,1,2,3,9,17...|  1.0|8.627394351338422|\n",
      "|(21,[0,1,2,3,9,17...|  4.5|8.627394351338422|\n",
      "+--------------------+-----+-----------------+\n",
      "only showing top 10 rows\n",
      "\n"
     ]
    }
   ],
   "source": [
    "model_predictions.show(10)"
   ]
  },
  {
   "cell_type": "markdown",
   "metadata": {},
   "source": [
    "* Se importa el **RegressionEvaluator**"
   ]
  },
  {
   "cell_type": "code",
   "execution_count": 62,
   "metadata": {},
   "outputs": [],
   "source": [
    "# import Evaluator\n",
    "\n",
    "from pyspark.ml.evaluation import RegressionEvaluator"
   ]
  },
  {
   "cell_type": "markdown",
   "metadata": {},
   "source": [
    "* Usando *RegressionEvaluator*, se calcula e imprime el valor de las métricas **R2** y **RMSE**:"
   ]
  },
  {
   "cell_type": "code",
   "execution_count": 63,
   "metadata": {},
   "outputs": [
    {
     "name": "stdout",
     "output_type": "stream",
     "text": [
      "The r-square value of DecisionTreeRegressor is: 0.2655984698202041\n",
      " \n",
      "The RMSE of DecisionTreeRegressor is: 10.99293789524329\n"
     ]
    }
   ],
   "source": [
    "# R2 value of the model on test data \n",
    "rf_evaluator = RegressionEvaluator(metricName='r2')\n",
    "rf_r2 = rf_evaluator.evaluate(model_predictions)\n",
    "print(f'The r-square value of DecisionTreeRegressor is: {rf_r2}')\n",
    "print(\" \")\n",
    "\n",
    "\n",
    "# RMSE value of the model on test data \n",
    "rf_evaluator = RegressionEvaluator(metricName='rmse')\n",
    "rf_rmse = rf_evaluator.evaluate(model_predictions)\n",
    "print(f'The RMSE of DecisionTreeRegressor is: {rf_rmse}')"
   ]
  },
  {
   "cell_type": "markdown",
   "metadata": {},
   "source": [
    "**Resumen de Precisiones Obtenidas:**"
   ]
  },
  {
   "cell_type": "markdown",
   "metadata": {},
   "source": [
    "Clasificador |   R2 value   |        RMSE  \n",
    "------------ | ------------- | ------------- \n",
    "Linear Regression | 23,10 % | 11,25 % \n",
    "Random Forest Regressor | 26,56 % | 10,99 % \n",
    "              |         |        "
   ]
  },
  {
   "cell_type": "markdown",
   "metadata": {},
   "source": [
    "Como se aprecia en los resultados obtenidos, los porcentajes de acierto logrados con los dos métodos empleados son de un máximo de 26,56 %, lo que indica una predicción pobre.\n",
    "\n",
    "La interpretación obtenida sobre estos resultados que utiliza una base de datos real de un banco , es que se tiene atributos que **NO SON importantes** en el motivo que tiene un empleado para tomar vacaciones.\n",
    "\n",
    "Hubiese sido interesante incluir otros atributos de datos que puedan mejorar estos registros como:\n",
    "\n",
    "- Cantidad de hijos: el tener hijos ayuda a que el empleado disponga de ciertos días para poder compartir con los hijos (por lo que la edad de esos hijos también influiría en los resultyados que se pudiera obtener).\n",
    "\n",
    "- Codigo de planilla: a pesar de que viene dentro de los datos iniciales de la BD, se descartó por el hecho de que solamente viene incluido como si todas las personas pertenecieran a un solo código de planilla (fijo).\n",
    "\n",
    "- Jornada de trabajo: al igual que el código de planilla, solo viene indicado como un solo valor. Pero este atributo define en buena parte si una persona toma o no vacaciones (no es lo mismo trabajar un fin de semana, que hacerlo de día ó de forma mixta)."
   ]
  },
  {
   "cell_type": "code",
   "execution_count": null,
   "metadata": {},
   "outputs": [],
   "source": []
  }
 ],
 "metadata": {
  "kernelspec": {
   "display_name": "Python 3",
   "language": "python",
   "name": "python3"
  },
  "language_info": {
   "codemirror_mode": {
    "name": "ipython",
    "version": 3
   },
   "file_extension": ".py",
   "mimetype": "text/x-python",
   "name": "python",
   "nbconvert_exporter": "python",
   "pygments_lexer": "ipython3",
   "version": "3.7.3"
  }
 },
 "nbformat": 4,
 "nbformat_minor": 2
}
